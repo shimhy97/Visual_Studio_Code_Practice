{
 "cells": [
  {
   "cell_type": "code",
   "execution_count": 78,
   "metadata": {},
   "outputs": [
    {
     "data": {
      "text/plain": [
       "11"
      ]
     },
     "execution_count": 78,
     "metadata": {},
     "output_type": "execute_result"
    }
   ],
   "source": [
    "\n",
    "def count(x):\n",
    "    if x==[]:\n",
    "        return 0\n",
    "    else:\n",
    "        x.pop()\n",
    "        return 1 + count(x)\n",
    "\n",
    "count([5,2,2,2,2,2,22,'b',3,4,5])"
   ]
  },
  {
   "cell_type": "code",
   "execution_count": 79,
   "metadata": {},
   "outputs": [
    {
     "name": "stdout",
     "output_type": "stream",
     "text": [
      "[72, 36, 61, 67]\n"
     ]
    },
    {
     "data": {
      "text/plain": [
       "11"
      ]
     },
     "execution_count": 79,
     "metadata": {},
     "output_type": "execute_result"
    }
   ],
   "source": [
    "#가장 큰 수 검색하는 max 함수 구현\n",
    "import numpy as np\n",
    "import random as rd\n",
    "def maxi(arr):\n",
    "    pivot = arr[-1]\n",
    "    arr = [_ for i in arr if i>pivot]\n",
    "    # print(arr)\n",
    "    if arr==[]:\n",
    "        return pivot\n",
    "    else:\n",
    "        return maxi(arr)\n",
    "\n",
    "arr = [rd.randrange(0,100) for i in range(0,4)]\n",
    "print(arr)\n",
    "maxi(arr)"
   ]
  },
  {
   "cell_type": "code",
   "execution_count": 80,
   "metadata": {},
   "outputs": [
    {
     "name": "stdout",
     "output_type": "stream",
     "text": [
      "9 8 7 6 5 4 3 2 1 0 "
     ]
    }
   ],
   "source": [
    "#factorial\n",
    "\n",
    "def recursive(n):\n",
    "    n = int(n)\n",
    "    if n == 0:\n",
    "        return 1\n",
    "    else :\n",
    "        return n * recursive(n-1)\n",
    "\n",
    "def printing(llist):\n",
    "    if llist == []:\n",
    "        return \n",
    "    else:\n",
    "        print(llist[-1],end=' ')\n",
    "        return printing(llist[:-1])\n",
    "\n",
    "printing([ i for i in range(10)])"
   ]
  },
  {
   "cell_type": "code",
   "execution_count": 81,
   "metadata": {},
   "outputs": [
    {
     "name": "stdout",
     "output_type": "stream",
     "text": [
      "1 2 7 6 8 3 4 5 "
     ]
    }
   ],
   "source": [
    "# DFS\n",
    "\n",
    "def DFS(graph,v,visited):\n",
    "    visited[v]=True\n",
    "    print(v, end=' ')\n",
    "    for i in graph[v]:\n",
    "        if not visited[i]:\n",
    "            DFS(graph,i,visited)    \n",
    "\n",
    "visited = [False]*9\n",
    "graph = [\n",
    "[],\n",
    "[2,3,8],\n",
    "[1,7],\n",
    "[1,4,5],\n",
    "[3,5],\n",
    "[3,4],\n",
    "[7],\n",
    "[2,6,8],\n",
    "[1,7]\n",
    "]\n",
    "\n",
    "DFS(graph,1,visited)"
   ]
  },
  {
   "cell_type": "code",
   "execution_count": 83,
   "metadata": {},
   "outputs": [
    {
     "name": "stdout",
     "output_type": "stream",
     "text": [
      "1 2 3 8 7 4 5 7 6 5 6 "
     ]
    }
   ],
   "source": [
    "from collections import deque\n",
    "\n",
    "graph = [\n",
    "[],\n",
    "[2,3,8],\n",
    "[1,7],\n",
    "[1,4,5],\n",
    "[3,5],\n",
    "[3,4],\n",
    "[7],\n",
    "[2,6,8],\n",
    "[1,7]\n",
    "]\n",
    "visited = [False]*9\n",
    "\n",
    "def BFS(graph,start,visited):\n",
    "    queue = deque([start])\n",
    "    visited[start]=True\n",
    "    \n",
    "    while queue:\n",
    "        v = queue.popleft()\n",
    "        print(v,end=' ') \n",
    "\n",
    "        for i in graph[v]:\n",
    "            if not visited[i]:\n",
    "                visited[v]=True\n",
    "                queue.append(i)\n",
    "\n",
    "BFS(graph,1,visited)"
   ]
  },
  {
   "cell_type": "code",
   "execution_count": 70,
   "metadata": {},
   "outputs": [
    {
     "name": "stdout",
     "output_type": "stream",
     "text": [
      "(1, 2) 1 2\n",
      "(2, 4) 2 4\n",
      "(3, 4) 3 4\n"
     ]
    }
   ],
   "source": [
    "arr = [[],[],[],[]]\n",
    "\n",
    "\n",
    "arr[0].append((1,2))\n",
    "arr[0].append((2,4))\n",
    "arr[0].append((3,4))\n",
    "\n",
    "arr[0]\n",
    "for j in arr[0]:\n",
    "    print(j,j[0],j[1])\n",
    "\n",
    "# print(arr[0][0])\n",
    "# print(arr[0][1])\n",
    "# print(arr[0][2])\n",
    "# print(arr[0][3])"
   ]
  },
  {
   "cell_type": "code",
   "execution_count": 123,
   "metadata": {},
   "outputs": [
    {
     "name": "stdout",
     "output_type": "stream",
     "text": [
      "graph=\n",
      " {0: [[1, 20], [3, 15], [5, 7]], 1: [[0, 20], [2, 6], [3, 15], [4, 9]], 2: [[1, 15], [4, 6], [7, 12]], 3: [[0, 15], [1, 20], [4, 14], [5, 5], [6, 13]], 4: [[1, 9], [2, 6], [3, 14], [7, 8]], 5: [[0, 7], [3, 5], [6, 20]], 6: [[3, 13], [4, 14], [5, 20], [7, 20]], 7: [[2, 12], [4, 8], [6, 20]]}\n",
      "distance=\n",
      " {0: 1000000000, 1: 1000000000, 2: 1000000000, 3: 1000000000, 4: 1000000000, 5: 1000000000, 6: 1000000000, 7: 1000000000}\n",
      "before_node=\n",
      " {}\n"
     ]
    }
   ],
   "source": [
    "with open('graph.txt','r') as file:\n",
    "    lines = file.readlines()\n",
    "    last_node = int(lines[-1][0])\n",
    "    graph = {}\n",
    "    for i in range(last_node+1):\n",
    "        graph.setdefault(int(i),[])\n",
    "    # print(lines)\n",
    "    for line in lines:\n",
    "        load = line.strip(\"\\n\").split()\n",
    "        # print(load)\n",
    "        a,b,c = int(load[0]),int(load[1]),int(load[2])\n",
    "        # print(a,b,c)\n",
    "     \n",
    "        graph[a].append([b,c])\n",
    "\n",
    "INF = int(1e9)\n",
    "nodes = last_node + 1\n",
    "\n",
    "distance={}\n",
    "visit_history = {}\n",
    "for i in range(last_node+1):\n",
    "    distance.setdefault(int(i),INF)  #거리 저장 노드\n",
    "    visit_history.setdefault(int(i),'not_visited') #방문 위치 노드\n",
    "\n",
    "before_node = {} #이전 경로 저장 노드 / 연결 정보까지 저장하기 위해 딕셔너리 형태를 쓴다.\n",
    "\n",
    "print(\"graph=\\n\",graph)\n",
    "print(\"distance=\\n\",distance)\n",
    "print(\"before_node=\\n\",before_node)"
   ]
  },
  {
   "cell_type": "code",
   "execution_count": 143,
   "metadata": {},
   "outputs": [
    {
     "name": "stdout",
     "output_type": "stream",
     "text": [
      "{0: 0, 1: 1000000000, 2: 1000000000, 3: 1000000000, 4: 1000000000, 5: 1000000000, 6: 1000000000, 7: 1000000000}\n",
      "{0: 'confirmed', 1: 'not_visited', 2: 'not_visited', 3: 'not_visited', 4: 'not_visited', 5: 'not_visited', 6: 'not_visited', 7: 'not_visited'}\n",
      "{1: None, 2: None, 3: None, 4: None, 5: None, 6: None, 7: None}\n"
     ]
    },
    {
     "ename": "KeyError",
     "evalue": "None",
     "output_type": "error",
     "traceback": [
      "\u001b[1;31m---------------------------------------------------------------------------\u001b[0m",
      "\u001b[1;31mKeyError\u001b[0m                                  Traceback (most recent call last)",
      "\u001b[1;32m<ipython-input-143-1caca8d70e36>\u001b[0m in \u001b[0;36m<module>\u001b[1;34m\u001b[0m\n\u001b[0;32m     93\u001b[0m \u001b[1;33m\u001b[0m\u001b[0m\n\u001b[0;32m     94\u001b[0m \u001b[1;33m\u001b[0m\u001b[0m\n\u001b[1;32m---> 95\u001b[1;33m \u001b[0mfind_shortest_path\u001b[0m\u001b[1;33m(\u001b[0m\u001b[0mstart\u001b[0m\u001b[1;33m,\u001b[0m\u001b[0mend\u001b[0m\u001b[1;33m)\u001b[0m\u001b[1;33m\u001b[0m\u001b[1;33m\u001b[0m\u001b[0m\n\u001b[0m\u001b[0;32m     96\u001b[0m \u001b[1;33m\u001b[0m\u001b[0m\n\u001b[0;32m     97\u001b[0m \u001b[1;33m\u001b[0m\u001b[0m\n",
      "\u001b[1;32m<ipython-input-143-1caca8d70e36>\u001b[0m in \u001b[0;36mfind_shortest_path\u001b[1;34m(start, end)\u001b[0m\n\u001b[0;32m     89\u001b[0m     \u001b[0mprint\u001b[0m\u001b[1;33m(\u001b[0m\u001b[0mvisit_history\u001b[0m\u001b[1;33m)\u001b[0m\u001b[1;33m\u001b[0m\u001b[1;33m\u001b[0m\u001b[0m\n\u001b[0;32m     90\u001b[0m     \u001b[0mprint\u001b[0m\u001b[1;33m(\u001b[0m\u001b[0mbefore_node\u001b[0m\u001b[1;33m)\u001b[0m\u001b[1;33m\u001b[0m\u001b[1;33m\u001b[0m\u001b[0m\n\u001b[1;32m---> 91\u001b[1;33m     \u001b[0mprint_shortest_path\u001b[0m\u001b[1;33m(\u001b[0m\u001b[0mbefore_node\u001b[0m\u001b[1;33m)\u001b[0m\u001b[1;33m\u001b[0m\u001b[1;33m\u001b[0m\u001b[0m\n\u001b[0m\u001b[0;32m     92\u001b[0m \u001b[1;33m\u001b[0m\u001b[0m\n\u001b[0;32m     93\u001b[0m \u001b[1;33m\u001b[0m\u001b[0m\n",
      "\u001b[1;32m<ipython-input-143-1caca8d70e36>\u001b[0m in \u001b[0;36mprint_shortest_path\u001b[1;34m(before_node)\u001b[0m\n\u001b[0;32m     41\u001b[0m     \u001b[1;32mwhile\u001b[0m \u001b[0mn\u001b[0m \u001b[1;33m!=\u001b[0m \u001b[0mstart\u001b[0m\u001b[1;33m:\u001b[0m\u001b[1;33m\u001b[0m\u001b[1;33m\u001b[0m\u001b[0m\n\u001b[0;32m     42\u001b[0m         \u001b[0mtrace\u001b[0m\u001b[1;33m.\u001b[0m\u001b[0mappend\u001b[0m\u001b[1;33m(\u001b[0m\u001b[0mn\u001b[0m\u001b[1;33m)\u001b[0m\u001b[1;33m\u001b[0m\u001b[1;33m\u001b[0m\u001b[0m\n\u001b[1;32m---> 43\u001b[1;33m         \u001b[0mn\u001b[0m \u001b[1;33m=\u001b[0m \u001b[0mbefore_node\u001b[0m\u001b[1;33m[\u001b[0m\u001b[0mn\u001b[0m\u001b[1;33m]\u001b[0m\u001b[1;33m\u001b[0m\u001b[1;33m\u001b[0m\u001b[0m\n\u001b[0m\u001b[0;32m     44\u001b[0m     \u001b[0mtrace\u001b[0m\u001b[1;33m.\u001b[0m\u001b[0mappend\u001b[0m\u001b[1;33m(\u001b[0m\u001b[0mstart\u001b[0m\u001b[1;33m)\u001b[0m\u001b[1;33m\u001b[0m\u001b[1;33m\u001b[0m\u001b[0m\n\u001b[0;32m     45\u001b[0m     \u001b[0mtrace\u001b[0m\u001b[1;33m.\u001b[0m\u001b[0mreverse\u001b[0m\u001b[1;33m(\u001b[0m\u001b[1;33m)\u001b[0m\u001b[1;33m\u001b[0m\u001b[1;33m\u001b[0m\u001b[0m\n",
      "\u001b[1;31mKeyError\u001b[0m: None"
     ]
    }
   ],
   "source": [
    "\n",
    "import os\n",
    "import numpy as np\n",
    "# 메모장의 그래프 정보를 불러오기\n",
    "\n",
    "with open('graph.txt','r') as file:\n",
    "    lines = file.readlines()\n",
    "    last_node = int(lines[-1][0])\n",
    "    graph = {}\n",
    "    for i in range(last_node+1):\n",
    "        graph.setdefault(int(i),[])\n",
    "    # print(lines)\n",
    "    for line in lines:\n",
    "        load = line.strip(\"\\n\").split()\n",
    "        # print(load)\n",
    "        a,b,c = int(load[0]),int(load[1]),int(load[2])\n",
    "        # print(a,b,c)\n",
    "     \n",
    "        graph[a].append([b,c])\n",
    "\n",
    "INF = int(1e9)\n",
    "nodes = last_node + 1\n",
    "\n",
    "distances={}\n",
    "visit_history = {}\n",
    "before_node = {}\n",
    "\n",
    "# 세개의 dictionary 초기화\n",
    "for i in range(last_node+1):\n",
    "    distances.setdefault(int(i),INF)  #거리 저장 노드 생성\n",
    "    visit_history.setdefault(int(i),'not_visited') #방문 위치 노드 생성\n",
    "\n",
    "for i in range(last_node):\n",
    "    before_node.setdefault(int(i+1),None) #이전 경로 저장 노드 / 연결 정보까지 저장하기 위해 딕셔너리 형태를 쓴다.\n",
    "\n",
    "start,end = map(int,input(\"시작 노드와 끝 노드를 입력하세요 : \").split())\n",
    "\n",
    "\n",
    "def print_shortest_path(before_node):\n",
    "    trace = []\n",
    "    n = end\n",
    "    while n != start:\n",
    "        trace.append(n)\n",
    "        n = before_node[n]\n",
    "    trace.append(start)\n",
    "    trace.reverse()\n",
    "    print(trace)\n",
    "\n",
    "\n",
    "def find_shortest_path(start,end):\n",
    "    \n",
    "    distances[start]=0  # 출발 노드 거리 0으로 선정\n",
    "    visit_history[start]='confirmed' # 출발 노드 방문으로 선정. 이때 출력시 출발노드는 무조건 첫번째니 바로 확정.\n",
    "    node = start  #출발 노드 설정\n",
    "\n",
    "    # #필요 없어서 잠깐 지움\n",
    "    # #초기 단계, 첫 노드에 대한 작업.\n",
    "    # for d in graph[start]:\n",
    "    #     # print(d[0])\n",
    "    #     distance[d[0]] = d[1] # 시작 노드와 연결된 지점들의 거리 정보 반영\n",
    "    #     visit_history[d[0]]='visited' # 시작 노드와 연결된 지점들의 방문 여부 반영\n",
    "    \n",
    "    #본격적인 작업\n",
    "    while 'not_visited' in visit_history: # \n",
    "\n",
    "        for d in graph[node]:#이동한 노드에 대해서 또 반복 해야지. 근데 이제 여기선 cost를 비교하는 과정이 들어간다.\n",
    "                             # 이때 d는 연결상태를 나타내는 원소 2개짜리 리스트이다. d[0],d[1]. \n",
    "                             # 예를들어 graph[4]는 4번 노드와 주변 노드와의 연결 정보를 알려준다.\n",
    "                             # d[0]        d[1]\n",
    "                             # 1번까지 거리 9,\n",
    "                             # 2번까지 거리 6 \n",
    "                             # 3번까지 거리 14, \n",
    "                             # 7번까지 거리 8을 의미한다.\n",
    "\n",
    "            temp_distance = distances[node] + d[1]\n",
    "            if temp_distance < distances[d[0]]:  # 현재 노드에서 다른 노드까지 가는 거리와 이미 저장되어 있는 거리 정보와 비교.\n",
    "                distances[d[0]] = temp_distance  #더 짧은 경로가 있으면? 갱신.\n",
    "                visit_history[d[0]]='confirmed'\n",
    "                before_node[d[0]] = node\n",
    "                # print(distances[d[0]])\n",
    "\n",
    "        for j in graph:  #모든 노드를 돌며, 거리가 최소이면서 방문하지 않은 노드를 찾는 과정. 그 후 이 노드로 이동해야 하므로 노드 번호를 반환.\n",
    "            if distances[j] < min_distance and visit_history[j]=='not_visited':\n",
    "                min_distance = distances[j] \n",
    "                node = j\n",
    "\n",
    "        visit_history[node] = 'visited' # 이동\n",
    "\n",
    "    print(distances)\n",
    "    print(visit_history)\n",
    "    print(before_node)\n",
    "    print_shortest_path(before_node)\n",
    "\n",
    "\n",
    "\n",
    "find_shortest_path(start,end)\n",
    "\n",
    "\n",
    "\n",
    "\n",
    "\n",
    "# 최종 출력물 : start node에서 end node까지의 최단 거리 및 경로를 표기\n",
    "\n",
    "\n"
   ]
  },
  {
   "cell_type": "code",
   "execution_count": 115,
   "metadata": {},
   "outputs": [
    {
     "name": "stdout",
     "output_type": "stream",
     "text": [
      "{0: 'not_visited', 1: 'not_visited', 2: 'not_visited', 3: 'not_visited', 4: 'not_visited', 5: 'not_visited', 6: 'not_visited', 7: 'not_visited'}\n"
     ]
    }
   ],
   "source": [
    "distance={}\n",
    "visit_history = {}\n",
    "for i in range(last_node+1):\n",
    "    distance.setdefault(int(i),INF)  #거리 저장 노드\n",
    "    visit_history.setdefault(int(i),'not_visited') #방문 위치 노드\n",
    "\n",
    "print(visit_history)"
   ]
  },
  {
   "cell_type": "code",
   "execution_count": 2,
   "metadata": {},
   "outputs": [
    {
     "data": {
      "text/plain": [
       "'c:\\\\Users\\\\shimh\\\\OneDrive\\\\바탕 화면\\\\Coding\\\\Visual_Studio_Code_Practice\\\\location_study'"
      ]
     },
     "execution_count": 2,
     "metadata": {},
     "output_type": "execute_result"
    }
   ],
   "source": [
    "os.getcwd()"
   ]
  }
 ],
 "metadata": {
  "interpreter": {
   "hash": "50faed8d441551fd183b97d85fc0091e61ea977ccb1a6e15cf290c6abe2e4e7f"
  },
  "kernelspec": {
   "display_name": "Python 3.9.5 64-bit ('tfgpu_py39': conda)",
   "language": "python",
   "name": "python3"
  },
  "language_info": {
   "codemirror_mode": {
    "name": "ipython",
    "version": 3
   },
   "file_extension": ".py",
   "mimetype": "text/x-python",
   "name": "python",
   "nbconvert_exporter": "python",
   "pygments_lexer": "ipython3",
   "version": "3.9.5"
  },
  "orig_nbformat": 4
 },
 "nbformat": 4,
 "nbformat_minor": 2
}

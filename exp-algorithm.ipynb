{
 "cells": [
  {
   "cell_type": "code",
   "execution_count": 5,
   "metadata": {},
   "outputs": [
    {
     "data": {
      "text/plain": [
       "11"
      ]
     },
     "execution_count": 5,
     "metadata": {},
     "output_type": "execute_result"
    }
   ],
   "source": [
    "\n",
    "def count(x):\n",
    "    if x==[]:\n",
    "        return 0\n",
    "    else:\n",
    "        x.pop()\n",
    "        return 1 + count(x)\n",
    "\n",
    "count([5,2,2,2,2,2,22,'b',3,4,5])"
   ]
  },
  {
   "cell_type": "code",
   "execution_count": 1,
   "metadata": {},
   "outputs": [
    {
     "name": "stdout",
     "output_type": "stream",
     "text": [
      "[61, 99, 42, 79]\n"
     ]
    },
    {
     "data": {
      "text/plain": [
       "''"
      ]
     },
     "execution_count": 1,
     "metadata": {},
     "output_type": "execute_result"
    }
   ],
   "source": [
    "#가장 큰 수 검색하는 max 함수 구현\n",
    "import numpy as np\n",
    "import random as rd\n",
    "def maxi(arr):\n",
    "    pivot = arr[-1]\n",
    "    arr = [_ for i in arr if i>pivot]\n",
    "    # print(arr)\n",
    "    if arr==[]:\n",
    "        return pivot\n",
    "    else:\n",
    "        return maxi(arr)\n",
    "\n",
    "arr = [rd.randrange(0,100) for i in range(0,4)]\n",
    "print(arr)\n",
    "maxi(arr)"
   ]
  },
  {
   "cell_type": "code",
   "execution_count": 24,
   "metadata": {},
   "outputs": [
    {
     "name": "stdout",
     "output_type": "stream",
     "text": [
      "9 8 7 6 5 4 3 2 1 0 "
     ]
    }
   ],
   "source": [
    "#factorial\n",
    "\n",
    "def recursive(n):\n",
    "    n = int(n)\n",
    "    if n == 0:\n",
    "        return 1\n",
    "    else :\n",
    "        return n * recursive(n-1)\n",
    "\n",
    "def printing(llist):\n",
    "    if llist == []:\n",
    "        return \n",
    "    else:\n",
    "        print(llist[-1],end=' ')\n",
    "        return printing(llist[:-1])\n",
    "\n",
    "printing([ i for i in range(10)])"
   ]
  },
  {
   "cell_type": "code",
   "execution_count": 38,
   "metadata": {},
   "outputs": [
    {
     "name": "stdout",
     "output_type": "stream",
     "text": [
      "1 2 7 6 8 3 4 5 "
     ]
    }
   ],
   "source": [
    "# DFS\n",
    "\n",
    "def DFS(graph,v,visited):\n",
    "    visited[v]=True\n",
    "    print(v, end=' ')\n",
    "    for i in graph[v]:\n",
    "        if not visited[i]:\n",
    "            DFS(graph,i,visited)    \n",
    "\n",
    "visited = [False]*9\n",
    "graph = [\n",
    "[],\n",
    "[2,3,8],\n",
    "[1,7],\n",
    "[1,4,5],\n",
    "[3,5],\n",
    "[3,4],\n",
    "[7],\n",
    "[2,6,8],\n",
    "[1,7]\n",
    "]\n",
    "\n",
    "DFS(graph,1,visited)"
   ]
  },
  {
   "cell_type": "code",
   "execution_count": null,
   "metadata": {},
   "outputs": [],
   "source": []
  }
 ],
 "metadata": {
  "interpreter": {
   "hash": "50faed8d441551fd183b97d85fc0091e61ea977ccb1a6e15cf290c6abe2e4e7f"
  },
  "kernelspec": {
   "display_name": "Python 3.9.5 64-bit ('tfgpu_py39': conda)",
   "language": "python",
   "name": "python3"
  },
  "language_info": {
   "codemirror_mode": {
    "name": "ipython",
    "version": 3
   },
   "file_extension": ".py",
   "mimetype": "text/x-python",
   "name": "python",
   "nbconvert_exporter": "python",
   "pygments_lexer": "ipython3",
   "version": "3.9.5"
  },
  "orig_nbformat": 4
 },
 "nbformat": 4,
 "nbformat_minor": 2
}

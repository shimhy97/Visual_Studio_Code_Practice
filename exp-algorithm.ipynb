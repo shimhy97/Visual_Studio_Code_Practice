{
 "cells": [
  {
   "cell_type": "code",
   "execution_count": 78,
   "metadata": {},
   "outputs": [
    {
     "data": {
      "text/plain": [
       "11"
      ]
     },
     "execution_count": 78,
     "metadata": {},
     "output_type": "execute_result"
    }
   ],
   "source": [
    "\n",
    "def count(x):\n",
    "    if x==[]:\n",
    "        return 0\n",
    "    else:\n",
    "        x.pop()\n",
    "        return 1 + count(x)\n",
    "\n",
    "count([5,2,2,2,2,2,22,'b',3,4,5])"
   ]
  },
  {
   "cell_type": "code",
   "execution_count": 79,
   "metadata": {},
   "outputs": [
    {
     "name": "stdout",
     "output_type": "stream",
     "text": [
      "[72, 36, 61, 67]\n"
     ]
    },
    {
     "data": {
      "text/plain": [
       "11"
      ]
     },
     "execution_count": 79,
     "metadata": {},
     "output_type": "execute_result"
    }
   ],
   "source": [
    "#가장 큰 수 검색하는 max 함수 구현\n",
    "import numpy as np\n",
    "import random as rd\n",
    "def maxi(arr):\n",
    "    pivot = arr[-1]\n",
    "    arr = [_ for i in arr if i>pivot]\n",
    "    # print(arr)\n",
    "    if arr==[]:\n",
    "        return pivot\n",
    "    else:\n",
    "        return maxi(arr)\n",
    "\n",
    "arr = [rd.randrange(0,100) for i in range(0,4)]\n",
    "print(arr)\n",
    "maxi(arr)"
   ]
  },
  {
   "cell_type": "code",
   "execution_count": 80,
   "metadata": {},
   "outputs": [
    {
     "name": "stdout",
     "output_type": "stream",
     "text": [
      "9 8 7 6 5 4 3 2 1 0 "
     ]
    }
   ],
   "source": [
    "#factorial\n",
    "\n",
    "def recursive(n):\n",
    "    n = int(n)\n",
    "    if n == 0:\n",
    "        return 1\n",
    "    else :\n",
    "        return n * recursive(n-1)\n",
    "\n",
    "def printing(llist):\n",
    "    if llist == []:\n",
    "        return \n",
    "    else:\n",
    "        print(llist[-1],end=' ')\n",
    "        return printing(llist[:-1])\n",
    "\n",
    "printing([ i for i in range(10)])"
   ]
  },
  {
   "cell_type": "code",
   "execution_count": 81,
   "metadata": {},
   "outputs": [
    {
     "name": "stdout",
     "output_type": "stream",
     "text": [
      "1 2 7 6 8 3 4 5 "
     ]
    }
   ],
   "source": [
    "# DFS\n",
    "\n",
    "def DFS(graph,v,visited):\n",
    "    visited[v]=True\n",
    "    print(v, end=' ')\n",
    "    for i in graph[v]:\n",
    "        if not visited[i]:\n",
    "            DFS(graph,i,visited)    \n",
    "\n",
    "visited = [False]*9\n",
    "graph = [\n",
    "[],\n",
    "[2,3,8],\n",
    "[1,7],\n",
    "[1,4,5],\n",
    "[3,5],\n",
    "[3,4],\n",
    "[7],\n",
    "[2,6,8],\n",
    "[1,7]\n",
    "]\n",
    "\n",
    "DFS(graph,1,visited)"
   ]
  },
  {
   "cell_type": "code",
   "execution_count": 83,
   "metadata": {},
   "outputs": [
    {
     "name": "stdout",
     "output_type": "stream",
     "text": [
      "1 2 3 8 7 4 5 7 6 5 6 "
     ]
    }
   ],
   "source": [
    "from collections import deque\n",
    "\n",
    "graph = [\n",
    "[],\n",
    "[2,3,8],\n",
    "[1,7],\n",
    "[1,4,5],\n",
    "[3,5],\n",
    "[3,4],\n",
    "[7],\n",
    "[2,6,8],\n",
    "[1,7]\n",
    "]\n",
    "visited = [False]*9\n",
    "\n",
    "def BFS(graph,start,visited):\n",
    "    queue = deque([start])\n",
    "    visited[start]=True\n",
    "    \n",
    "    while queue:\n",
    "        v = queue.popleft()\n",
    "        print(v,end=' ') \n",
    "\n",
    "        for i in graph[v]:\n",
    "            if not visited[i]:\n",
    "                visited[v]=True\n",
    "                queue.append(i)\n",
    "\n",
    "BFS(graph,1,visited)"
   ]
  },
  {
   "cell_type": "code",
   "execution_count": 70,
   "metadata": {},
   "outputs": [
    {
     "name": "stdout",
     "output_type": "stream",
     "text": [
      "(1, 2) 1 2\n",
      "(2, 4) 2 4\n",
      "(3, 4) 3 4\n"
     ]
    }
   ],
   "source": [
    "arr = [[],[],[],[]]\n",
    "\n",
    "\n",
    "arr[0].append((1,2))\n",
    "arr[0].append((2,4))\n",
    "arr[0].append((3,4))\n",
    "\n",
    "arr[0]\n",
    "for j in arr[0]:\n",
    "    print(j,j[0],j[1])\n",
    "\n",
    "# print(arr[0][0])\n",
    "# print(arr[0][1])\n",
    "# print(arr[0][2])\n",
    "# print(arr[0][3])"
   ]
  },
  {
   "cell_type": "code",
   "execution_count": 54,
   "metadata": {},
   "outputs": [
    {
     "name": "stdout",
     "output_type": "stream",
     "text": [
      "[[0, ['2', '20'], ['4', '15'], ['6', '7']], [1, ['1', '20'], ['4', '6'], ['3', '15'], ['5', '9']], [2, ['2', '15'], ['5', '6'], ['8', '12']], [3, ['1', '15'], ['2', '20'], ['5', '14'], ['6', '5'], ['7', '13']], [4, ['2', '9'], ['3', '6'], ['4', '14'], ['8', '8']], [5, ['1', '7'], ['4', '5'], ['7', '20']], [6, ['4', '13'], ['5', '14'], ['6', '20'], ['8', '20']], [7, ['3', '12'], ['5', '8'], ['7', '20']]]\n"
     ]
    }
   ],
   "source": []
  },
  {
   "cell_type": "code",
   "execution_count": 51,
   "metadata": {},
   "outputs": [
    {
     "ename": "SyntaxError",
     "evalue": "cannot assign to function call (<ipython-input-51-d5e25b8f36da>, line 40)",
     "output_type": "error",
     "traceback": [
      "\u001b[1;36m  File \u001b[1;32m\"<ipython-input-51-d5e25b8f36da>\"\u001b[1;36m, line \u001b[1;32m40\u001b[0m\n\u001b[1;33m    distance(j[0]) = j[1]\u001b[0m\n\u001b[1;37m    ^\u001b[0m\n\u001b[1;31mSyntaxError\u001b[0m\u001b[1;31m:\u001b[0m cannot assign to function call\n"
     ]
    }
   ],
   "source": [
    "#djikstra\n",
    "\n",
    "# n,m = int(input().split())\n",
    "# start = int(input())\n",
    "# graph = [[] for i in range(n+1)]\n",
    "# # 모든 간선 정보 입력받는 부분!\n",
    "# for _ in range(3):\n",
    "#     a,b,c = map(int(input().split()))\n",
    "#     graph[a].append((b,c)) # a 에서 b로 이동할때 드는 비용이 c 라는 의미이다.\n",
    "\n",
    "import os\n",
    "\n",
    "# 메모장의 그래프 정보를 불러오기\n",
    "\n",
    "with open('graph.txt','r') as file:\n",
    "    lines = file.readlines()\n",
    "    last_node = int(lines[-1][0])\n",
    "    graph = [[i] for i in range(last_node + 1)]\n",
    "    # print(lines)\n",
    "    for line in lines:\n",
    "        load = line.strip(\"\\n\").split()\n",
    "        # print(load)\n",
    "        a,b,c = int(load[0]),load[1],load[2]\n",
    "        # print(a,b,c)\n",
    "        graph[a].append([b,c])\n",
    "\n",
    "INF = int(1e9)\n",
    "n=len(graph)\n",
    "visited = [False]*(n) #방문 위치 노드\n",
    "distance = INF*(n) #거리 저장 노드\n",
    "before_node = [] #이전 경로 저장 노드\n",
    "\n",
    "def dijkstra():\n",
    "    # start 노드에 대해서 초기화!\n",
    "    start,end = map(int,input(\"시작 노드와 끝 노드를 입력하세요 : \").split())\n",
    "\n",
    "    distance[start]=0\n",
    "    visited[start]=True\n",
    "    for j in graph[start]:\n",
    "        distance(j[0]) = j[1]\n",
    "        \n",
    "\n",
    "\n",
    "\n",
    "# 최종 출력물 : start node에서 각 node까지의 최단 거리를 표기한 distance 행렬\n",
    "\n",
    "\n"
   ]
  }
 ],
 "metadata": {
  "interpreter": {
   "hash": "50faed8d441551fd183b97d85fc0091e61ea977ccb1a6e15cf290c6abe2e4e7f"
  },
  "kernelspec": {
   "display_name": "Python 3.9.5 64-bit ('tfgpu_py39': conda)",
   "language": "python",
   "name": "python3"
  },
  "language_info": {
   "codemirror_mode": {
    "name": "ipython",
    "version": 3
   },
   "file_extension": ".py",
   "mimetype": "text/x-python",
   "name": "python",
   "nbconvert_exporter": "python",
   "pygments_lexer": "ipython3",
   "version": "3.9.5"
  },
  "orig_nbformat": 4
 },
 "nbformat": 4,
 "nbformat_minor": 2
}

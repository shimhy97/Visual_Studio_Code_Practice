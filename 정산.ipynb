{
 "cells": [
  {
   "cell_type": "code",
   "execution_count": 27,
   "metadata": {},
   "outputs": [
    {
     "name": "stdout",
     "output_type": "stream",
     "text": [
      "=J9+J14+J19+J24+J29+J34+J39+J44+J49+J54+J59+J64+J69+J74+J79+J84+J89+J94+J99+J104+J109+J114+J119+J124\n",
      "=R9+R14+R19+R24+R29+R34+R39+R44+R49+R54+R59+R64+R69+R74+R79+R84+R89+R94+R99+R104+R109+R114+R119+R124\n",
      "=Z9+Z14+Z19+Z24+Z29+Z34+Z39+Z44+Z49+Z54+Z59+Z64+Z69+Z74+Z79+Z84+Z89+Z94+Z99+Z104+Z109+Z114+Z119+Z124\n",
      "=AH9+AH14+AH19+AH24+AH29+AH34+AH39+AH44+AH49+AH54+AH59+AH64+AH69+AH74+AH79+AH84+AH89+AH94+AH99+AH104+AH109+AH114+AH119+AH124\n"
     ]
    }
   ],
   "source": [
    "columns = ['J','R','Z','AH']\n",
    "start = int(input())\n",
    "\n",
    "for column in columns:\n",
    "    print('=',end='')\n",
    "    for i in range(23):\n",
    "        print('{0}{1}'.format(column,start+5*i),end='+')\n",
    "    print('{0}{1}'.format(column,start+115))\n",
    "        "
   ]
  },
  {
   "cell_type": "markdown",
   "metadata": {},
   "source": [
    "1 2 3 4 >>> 9\n",
    "\n",
    "5 6 7 8 >>> 133\n",
    "\n",
    "9 10 11 12 >>> 257"
   ]
  }
 ],
 "metadata": {
  "interpreter": {
   "hash": "b3ba2566441a7c06988d0923437866b63cedc61552a5af99d1f4fb67d367b25f"
  },
  "kernelspec": {
   "display_name": "Python 3.8.8 64-bit ('base': conda)",
   "language": "python",
   "name": "python3"
  },
  "language_info": {
   "codemirror_mode": {
    "name": "ipython",
    "version": 3
   },
   "file_extension": ".py",
   "mimetype": "text/x-python",
   "name": "python",
   "nbconvert_exporter": "python",
   "pygments_lexer": "ipython3",
   "version": "3.8.8"
  },
  "orig_nbformat": 4
 },
 "nbformat": 4,
 "nbformat_minor": 2
}

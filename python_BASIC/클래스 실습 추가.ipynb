{
 "cells": [
  {
   "cell_type": "code",
   "execution_count": 10,
   "metadata": {},
   "outputs": [
    {
     "name": "stdout",
     "output_type": "stream",
     "text": [
      "아빠를 닮아 잘생겼다\n",
      "얼굴말이야\n"
     ]
    }
   ],
   "source": [
    "class father:# 부모 클래스\n",
    "    def __init__(self,who):\n",
    "        self.who=who\n",
    "    def handsome(self):\n",
    "        print(\"{}를 닮아 잘생겼다\".format(self.who))\n",
    "class sister(father): # 자식클래스(부모클래스) 아빠매소드를 상속받겠다  \n",
    "    def __init__(self, who, where):\n",
    "        super().__init__(who)\n",
    "        self.where = where\n",
    "    def choice(self):\n",
    "        print(\"{}말이야\".format(self.where))\n",
    "    def handsome(self):\n",
    "        super().handsome()\n",
    "        self.choice()\n",
    "\n",
    "\n",
    "girl=sister(\"아빠\",\"얼굴\")    \n",
    "girl.handsome()\n"
   ]
  },
  {
   "cell_type": "code",
   "execution_count": null,
   "metadata": {},
   "outputs": [],
   "source": []
  }
 ],
 "metadata": {
  "interpreter": {
   "hash": "0ab6d9fa098377698ad82e724fbee6e2d289e2ee62a82de9af073f98052046e0"
  },
  "kernelspec": {
   "display_name": "Python 3.9.12 ('shimhy97')",
   "language": "python",
   "name": "python3"
  },
  "language_info": {
   "codemirror_mode": {
    "name": "ipython",
    "version": 3
   },
   "file_extension": ".py",
   "mimetype": "text/x-python",
   "name": "python",
   "nbconvert_exporter": "python",
   "pygments_lexer": "ipython3",
   "version": "3.9.12"
  },
  "orig_nbformat": 4
 },
 "nbformat": 4,
 "nbformat_minor": 2
}

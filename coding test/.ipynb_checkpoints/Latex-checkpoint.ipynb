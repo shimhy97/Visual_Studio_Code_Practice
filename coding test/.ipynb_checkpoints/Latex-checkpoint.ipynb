{
 "cells": [
  {
   "cell_type": "markdown",
   "metadata": {},
   "source": []
  },
  {
   "cell_type": "code",
   "execution_count": 1,
   "metadata": {},
   "outputs": [],
   "source": [
    "import handcalcs.render\n",
    "import forallpeople as si\n",
    "import numpy as np\n",
    "from math import sqrt,pi\n",
    "import warnings\n",
    "import sympy as sp\n",
    "\n",
    "warnings.filterwarnings(action='ignore')"
   ]
  },
  {
   "cell_type": "code",
   "execution_count": 2,
   "metadata": {},
   "outputs": [
    {
     "data": {
      "text/latex": [
       "\\[\n",
       "\\begin{aligned}\n",
       "a &= [1,\\ 2,\\ 3,\\ 4] \\; \n",
       " &x &= 3.146 \\;\\end{aligned}\n",
       "\\]"
      ],
      "text/plain": [
       "<IPython.core.display.Latex object>"
      ]
     },
     "metadata": {},
     "output_type": "display_data"
    }
   ],
   "source": [
    "%%render params 3\n",
    "a = [1,2,3,4]\n",
    "x = sqrt(2) + sqrt(3)"
   ]
  },
  {
   "cell_type": "code",
   "execution_count": 3,
   "metadata": {},
   "outputs": [
    {
     "data": {
      "text/latex": [
       "\\[\n",
       "\\begin{aligned}\n",
       "a &= 5 \\; \n",
       "\\\\[10pt]\n",
       "b &= 10 \\; \n",
       "\\end{aligned}\n",
       "\\]"
      ],
      "text/plain": [
       "<IPython.core.display.Latex object>"
      ]
     },
     "metadata": {},
     "output_type": "display_data"
    }
   ],
   "source": [
    "%%render\n",
    "a=5\n",
    "b=10"
   ]
  },
  {
   "cell_type": "markdown",
   "metadata": {},
   "source": [
    "# Solving systems of equations\n",
    "\n",
    "- by comparing the rank of $\\mathbb{A}$ and the augmented matrix, we can find out if the systems of equations have\n",
    "  - exactly one solutions, (this is case when $\\mathbb{A}$ is ```invertible```)\n",
    "  - many solutions, (the solution set exist in ```hyperplane``` which is ```affine nullspace of $A$```)\n",
    "  - no solutions (rank of the ```argumented matrix``` is greater than rank of $A$)"
   ]
  }
 ],
 "metadata": {
  "authors": [
   {
    "name": "Jorge Gustavo Rocha"
   },
   {
    "name": "Matilde Rocha"
   }
  ],
  "interpreter": {
   "hash": "b213550987400697569e59f46f391a05aa8d2ff5e81de6a6faa6aee49f892755"
  },
  "kernelspec": {
   "display_name": "Python 3 (ipykernel)",
   "language": "python",
   "name": "python3"
  },
  "language_info": {
   "codemirror_mode": {
    "name": "ipython",
    "version": 3
   },
   "file_extension": ".py",
   "mimetype": "text/x-python",
   "name": "python",
   "nbconvert_exporter": "python",
   "pygments_lexer": "ipython3",
   "version": "3.10.3"
  },
  "title": "Go_Ksm"
 },
 "nbformat": 4,
 "nbformat_minor": 2
}

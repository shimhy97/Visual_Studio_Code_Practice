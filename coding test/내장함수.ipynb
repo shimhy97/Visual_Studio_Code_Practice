{
 "metadata": {
  "language_info": {
   "codemirror_mode": {
    "name": "ipython",
    "version": 3
   },
   "file_extension": ".py",
   "mimetype": "text/x-python",
   "name": "python",
   "nbconvert_exporter": "python",
   "pygments_lexer": "ipython3",
   "version": "3.8.8"
  },
  "orig_nbformat": 2,
  "kernelspec": {
   "name": "python388jvsc74a57bd0b3ba2566441a7c06988d0923437866b63cedc61552a5af99d1f4fb67d367b25f",
   "display_name": "Python 3.8.8 64-bit ('base': conda)"
  }
 },
 "nbformat": 4,
 "nbformat_minor": 2,
 "cells": [
  {
   "source": [
    "sorted 함수에서, 특정 원소를 기준으로 나열 하는 법"
   ],
   "cell_type": "markdown",
   "metadata": {}
  },
  {
   "cell_type": "code",
   "execution_count": 8,
   "metadata": {},
   "outputs": [
    {
     "output_type": "execute_result",
     "data": {
      "text/plain": [
       "[('임요환', 22), ('이순신', 25), ('홍길동', 35), ('김삿갓', 63)]"
      ]
     },
     "metadata": {},
     "execution_count": 8
    }
   ],
   "source": [
    "sorted([(\"홍길동\",35),(\"이순신\",25),(\"임요환\",22),(\"김삿갓\",63)],key = lambda x : x[1])"
   ]
  },
  {
   "source": [
    "계산식 뱉어내는 evaluate 함수"
   ],
   "cell_type": "markdown",
   "metadata": {}
  },
  {
   "cell_type": "code",
   "execution_count": 14,
   "metadata": {},
   "outputs": [
    {
     "output_type": "execute_result",
     "data": {
      "text/plain": [
       "1024"
      ]
     },
     "metadata": {},
     "execution_count": 14
    }
   ],
   "source": [
    "eval(\"(3+1)**5\")"
   ]
  },
  {
   "source": [
    "순열과 조합에서 사용되는 itertools 모듈\n",
    "\n",
    "그 중 permutation = 만들 수 있는 모든 가짓수를 반환"
   ],
   "cell_type": "markdown",
   "metadata": {}
  },
  {
   "cell_type": "code",
   "execution_count": 23,
   "metadata": {},
   "outputs": [
    {
     "output_type": "execute_result",
     "data": {
      "text/plain": [
       "[('A', 'B', 'C'),\n",
       " ('A', 'C', 'B'),\n",
       " ('B', 'A', 'C'),\n",
       " ('B', 'C', 'A'),\n",
       " ('C', 'A', 'B'),\n",
       " ('C', 'B', 'A')]"
      ]
     },
     "metadata": {},
     "execution_count": 23
    }
   ],
   "source": [
    "from itertools import permutations\n",
    "\n",
    "data = ('A','B','C')\n",
    "result = list(permutations(data,3))\n",
    "result"
   ]
  },
  {
   "source": [
    "단순 조합인 combinations 메서드"
   ],
   "cell_type": "markdown",
   "metadata": {}
  },
  {
   "cell_type": "code",
   "execution_count": 34,
   "metadata": {},
   "outputs": [
    {
     "output_type": "execute_result",
     "data": {
      "text/plain": [
       "[('A', 'B'), ('A', 'C'), ('B', 'C')]"
      ]
     },
     "metadata": {},
     "execution_count": 34
    }
   ],
   "source": [
    "from itertools import combinations\n",
    "\n",
    "data = ('A','B','C')\n",
    "result = list(combinations(data,2))\n",
    "result"
   ]
  },
  {
   "source": [
    "중복조합을 나타내는 combination_with_displacement 모듈"
   ],
   "cell_type": "markdown",
   "metadata": {}
  },
  {
   "cell_type": "code",
   "execution_count": 36,
   "metadata": {},
   "outputs": [
    {
     "output_type": "execute_result",
     "data": {
      "text/plain": [
       "[('A', 'A'), ('A', 'B'), ('A', 'C'), ('B', 'B'), ('B', 'C'), ('C', 'C')]"
      ]
     },
     "metadata": {},
     "execution_count": 36
    }
   ],
   "source": [
    "from itertools import combinations_with_replacement as cwr\n",
    "\n",
    "data = ('A','B','C')\n",
    "result = list(cwr(data,2))\n",
    "result"
   ]
  },
  {
   "source": [
    "Collections 모듈은 코딩 테스트에서 정말 유용하게 쓰인다.\n",
    "\n",
    "1.deque << 리스트랑 똑같은데, 왜 쓰는거야? 처리속도 때문에 !! \n"
   ],
   "cell_type": "markdown",
   "metadata": {}
  },
  {
   "cell_type": "code",
   "execution_count": 1,
   "metadata": {},
   "outputs": [
    {
     "output_type": "execute_result",
     "data": {
      "text/plain": [
       "deque([100, 3, 100])"
      ]
     },
     "metadata": {},
     "execution_count": 1
    }
   ],
   "source": [
    "from collections import deque\n",
    "a = deque([2,3,4])\n",
    "\n",
    "a.popleft()\n",
    "a.pop()\n",
    "a.appendleft(100)\n",
    "a.append(100)\n",
    "a\n"
   ]
  },
  {
   "source": [
    "2. Counter = 원소가 몇번 등장했나? 집합 원소 갯수 세기 시 유용하다."
   ],
   "cell_type": "markdown",
   "metadata": {}
  },
  {
   "cell_type": "code",
   "execution_count": 6,
   "metadata": {},
   "outputs": [
    {
     "output_type": "stream",
     "name": "stdout",
     "text": [
      "Counter({'G': 3, 'R': 2, 'B': 1})\n2\n"
     ]
    }
   ],
   "source": [
    "from collections import Counter\n",
    "\n",
    "group = [\"R\",\"B\",\"G\",\"G\",\"G\",\"R\"]\n",
    "counter = Counter(group)\n",
    "print(counter)  # 사전 형식으로 나오네\n",
    "print(counter[\"R\"])"
   ]
  },
  {
   "cell_type": "code",
   "execution_count": null,
   "metadata": {},
   "outputs": [],
   "source": []
  }
 ]
}
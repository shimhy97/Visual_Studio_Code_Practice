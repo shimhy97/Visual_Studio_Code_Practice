{
 "cells": [
  {
   "cell_type": "code",
   "execution_count": 22,
   "metadata": {},
   "outputs": [
    {
     "name": "stdout",
     "output_type": "stream",
     "text": [
      "17108476902340227241249719513231821477382749898026920041550883749834348017250935801359315038923367841494936038231522506358371361016671790887791259870264957823133253627917432203111969704623229384763490617075388642696139893354058660570399927047816296952516330636633851111646387885472698683607925\n"
     ]
    }
   ],
   "source": [
    "## 피보나치 (업다운)\n",
    "\n",
    "x = 1400\n",
    "d = [0 for _ in range(0,x+1)]\n",
    "\n",
    "def fibo(x):\n",
    "    if (x==1 or x==2):\n",
    "        return 1\n",
    "    if d[x]!=0:\n",
    "        return d[x]\n",
    "    else:\n",
    "        d[x] = fibo(x-1) + fibo(x-2)\n",
    "        return d[x]\n",
    "    \n",
    "    \n",
    "print(fibo(x))"
   ]
  },
  {
   "cell_type": "code",
   "execution_count": 20,
   "metadata": {},
   "outputs": [
    {
     "data": {
      "text/plain": [
       "55"
      ]
     },
     "execution_count": 20,
     "metadata": {},
     "output_type": "execute_result"
    }
   ],
   "source": [
    "# 피보나치 (다운업)\n",
    "\n",
    "\n",
    "def fibo_updown(x):\n",
    "    #초기 값 지정\n",
    "    curr,next = 1,1\n",
    "    if x==1 or x==2:\n",
    "        return 1\n",
    "    elif x>2:\n",
    "        for _ in range(3,x+1):\n",
    "            curr,next = next, curr + next\n",
    "        return next\n",
    "\n",
    "fibo_updown(10)"
   ]
  },
  {
   "cell_type": "code",
   "execution_count": 15,
   "metadata": {},
   "outputs": [
    {
     "name": "stdout",
     "output_type": "stream",
     "text": [
      "Fibonacci(50): 12586269025\n"
     ]
    }
   ],
   "source": [
    "# 데코레이터를 이용하여 중복 계산\n",
    "\n",
    "from functools import lru_cache\n",
    "\n",
    "@lru_cache(maxsize=None)\n",
    "def fib(n):\n",
    "    if n == 0:\n",
    "        return 0\n",
    "    elif n == 1 or n == 2:\n",
    "        return 1\n",
    "    else:\n",
    "        return fib(n - 1) + fib(n - 2)\n",
    "\n",
    "\n",
    "n = 50\n",
    "print('Fibonacci({}): {}'.format(n, fib(n)))"
   ]
  }
 ],
 "metadata": {
  "interpreter": {
   "hash": "5c3a4f7c6253bfb870b354c9124fbe15b42696deb77cb106d23452a831963fc7"
  },
  "kernelspec": {
   "display_name": "Python 3.10.3 ('tfgpu_py310')",
   "language": "python",
   "name": "python3"
  },
  "language_info": {
   "codemirror_mode": {
    "name": "ipython",
    "version": 3
   },
   "file_extension": ".py",
   "mimetype": "text/x-python",
   "name": "python",
   "nbconvert_exporter": "python",
   "pygments_lexer": "ipython3",
   "version": "3.10.3"
  },
  "orig_nbformat": 4
 },
 "nbformat": 4,
 "nbformat_minor": 2
}

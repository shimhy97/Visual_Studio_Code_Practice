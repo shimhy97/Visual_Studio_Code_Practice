{
 "cells": [
  {
   "cell_type": "code",
   "execution_count": null,
   "metadata": {},
   "outputs": [],
   "source": [
    "# 다운 투 업\n",
    "\n",
    "x = int(input(\"정수 입력:\"))\n",
    "\n",
    "d = [0 for _ in range(30001)]\n",
    "\n",
    "for i in range(2,x+1):\n",
    "\n",
    "    # 일단 큰 값을 저장해두고, 아래로 갈 수록 점차 좋은 값이 저장 됨.\n",
    "    # f(x)를 구하려면 f(1)~f(x-1)다 구해야 함\n",
    "\n",
    "    \n",
    "    # 현재의 수에서 1을 빼는 경우 : \n",
    "    d[i] = d[i-1] + 1\n",
    "\n",
    "    # 현재의 수에서 2로 나누어 떨어지는 경우 :\n",
    "    if i%2 == 0:\n",
    "        d[i] = min(d[i],d[i//2]+1)\n",
    "    # 현재의 수에서 3로 나누어 떨어지는 경우 :\n",
    "    if i%3 == 0:\n",
    "        d[i] = min(d[i],d[i//3]+1)\n",
    "    # 현재의 수에서 5로 나누어 떨어지는 경우 :\n",
    "    if i%5 == 0:\n",
    "        d[i] = min(d[i],d[i//5]+1)\n",
    "    \n",
    "print(d[x])\n",
    "\n"
   ]
  },
  {
   "cell_type": "code",
   "execution_count": 2,
   "metadata": {},
   "outputs": [
    {
     "data": {
      "text/plain": [
       "5"
      ]
     },
     "execution_count": 2,
     "metadata": {},
     "output_type": "execute_result"
    }
   ],
   "source": [
    "N = 1000\n",
    "d = [0]*N\n",
    "d[1],d[2],d[3],d[4],d[5] = 0,1,1,2,1\n",
    "\n",
    "def make1(x):\n",
    "    if x<=5:\n",
    "        return d[x]\n",
    "    \n",
    "    # 만약 값이 저장되어 있을 경우 그냥 그 값을 갖다 쓴다.\n",
    "    if d[x] != 0:\n",
    "        return d[x]\n",
    "\n",
    "    # 현재의 수에서 5로 나누어 떨어지는 경우 :\n",
    "    if x%5 == 0:\n",
    "        d[x] = make1(x//5) + 1\n",
    "        return d[x] \n",
    "    # 현재의 수에서 3로 나누어 떨어지는 경우 :\n",
    "    if x%3 == 0:\n",
    "        d[x] = make1(x//3) + 1\n",
    "        return d[x]\n",
    "    # 현재의 수에서 2로 나누어 떨어지는 경우 :\n",
    "    if x%2 == 0:\n",
    "        d[x] = make1(x//2) + 1\n",
    "        return d[x]\n",
    "    # 1을 빼는 경우\n",
    "    else:\n",
    "        d[x] = make1(x-1) + 1\n",
    "        return d[x]\n",
    "make1(26)"
   ]
  },
  {
   "cell_type": "code",
   "execution_count": null,
   "metadata": {},
   "outputs": [
    {
     "ename": "",
     "evalue": "",
     "output_type": "error",
     "traceback": [
      "\u001b[1;31mFailed to interrupt the Kernel. \n",
      "Canceled. \n",
      "View Jupyter <a href='command:jupyter.viewOutput'>log</a> for further details."
     ]
    }
   ],
   "source": [
    "# 그러나 위 알고리즘은 최적이 아니다. Greedy 하게 짰기 때문이다.\n",
    "\n",
    "N = 1000\n",
    "d = [0]*N\n",
    "d[1],d[2],d[3],d[4],d[5] = 0,1,1,2,1\n",
    "\n",
    "def make1(x):\n",
    "    if x<=5:\n",
    "        return d[x]\n",
    "    \n",
    "    # 만약 값이 저장되어 있을 경우 그냥 그 값을 갖다 쓴다.\n",
    "    if d[x] != 0:\n",
    "        return d[x]\n",
    "    \n",
    "    # 현재의 수에서 5로 나누어 떨어지는 경우 :\n",
    "    if x%5 == 0:\n",
    "        d[x] = make1(x//5) + 1\n",
    "        return d[x] \n",
    "    # 현재의 수에서 3로 나누어 떨어지는 경우 :\n",
    "    if x%3 == 0:\n",
    "        d[x] = make1(x//3) + 1\n",
    "        return d[x]\n",
    "    # 현재의 수에서 2로 나누어 떨어지는 경우 :\n",
    "    if x%2 == 0:\n",
    "        d[x] = make1(x//2) + 1\n",
    "        return d[x]\n",
    "    # 1을 빼는 경우\n",
    "    else:\n",
    "        d[x] = make1(x-1) + 1\n",
    "        return d[x]\n",
    " \n",
    "\n",
    "make1(26)\n"
   ]
  }
 ],
 "metadata": {
  "interpreter": {
   "hash": "b213550987400697569e59f46f391a05aa8d2ff5e81de6a6faa6aee49f892755"
  },
  "kernelspec": {
   "display_name": "Python 3.10.4 64-bit (windows store)",
   "language": "python",
   "name": "python3"
  },
  "language_info": {
   "codemirror_mode": {
    "name": "ipython",
    "version": 3
   },
   "file_extension": ".py",
   "mimetype": "text/x-python",
   "name": "python",
   "nbconvert_exporter": "python",
   "pygments_lexer": "ipython3",
   "version": "3.10.4"
  },
  "orig_nbformat": 4
 },
 "nbformat": 4,
 "nbformat_minor": 2
}

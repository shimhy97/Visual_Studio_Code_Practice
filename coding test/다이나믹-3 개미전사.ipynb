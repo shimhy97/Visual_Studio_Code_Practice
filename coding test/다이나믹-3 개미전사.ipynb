{
 "cells": [
  {
   "cell_type": "code",
   "execution_count": 5,
   "metadata": {},
   "outputs": [
    {
     "name": "stdout",
     "output_type": "stream",
     "text": [
      "1003\n"
     ]
    }
   ],
   "source": [
    "N = 5\n",
    "inven = [1,3,1,5,1000]\n",
    "d=[0]*(N+1)\n",
    "\n",
    "if N == 1 or N == 2:\n",
    "    print(max(d))\n",
    "elif N >=3 :\n",
    "    d[1] = inven[0]\n",
    "    d[2] = max(inven[0:2])\n",
    "    for i in range(3,N+1):\n",
    "        d[i] = max(d[i-2]+inven[i-1],d[i-1])\n",
    "    \n",
    "    print(d[N])"
   ]
  },
  {
   "cell_type": "code",
   "execution_count": 1,
   "metadata": {},
   "outputs": [
    {
     "data": {
      "text/plain": [
       "[1]"
      ]
     },
     "execution_count": 1,
     "metadata": {},
     "output_type": "execute_result"
    }
   ],
   "source": [
    "a=[1,2,3,4]\n",
    "a[0:1]"
   ]
  }
 ],
 "metadata": {
  "interpreter": {
   "hash": "b213550987400697569e59f46f391a05aa8d2ff5e81de6a6faa6aee49f892755"
  },
  "kernelspec": {
   "display_name": "Python 3.10.4 64-bit (windows store)",
   "language": "python",
   "name": "python3"
  },
  "language_info": {
   "codemirror_mode": {
    "name": "ipython",
    "version": 3
   },
   "file_extension": ".py",
   "mimetype": "text/x-python",
   "name": "python",
   "nbconvert_exporter": "python",
   "pygments_lexer": "ipython3",
   "version": "3.10.4"
  },
  "orig_nbformat": 4
 },
 "nbformat": 4,
 "nbformat_minor": 2
}

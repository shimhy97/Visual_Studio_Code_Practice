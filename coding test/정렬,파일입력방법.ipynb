{
 "metadata": {
  "language_info": {
   "codemirror_mode": {
    "name": "ipython",
    "version": 3
   },
   "file_extension": ".py",
   "mimetype": "text/x-python",
   "name": "python",
   "nbconvert_exporter": "python",
   "pygments_lexer": "ipython3",
   "version": "3.8.8"
  },
  "orig_nbformat": 2,
  "kernelspec": {
   "name": "python388jvsc74a57bd0b3ba2566441a7c06988d0923437866b63cedc61552a5af99d1f4fb67d367b25f",
   "display_name": "Python 3.8.8 64-bit ('base': conda)"
  }
 },
 "nbformat": 4,
 "nbformat_minor": 2,
 "cells": [
  {
   "cell_type": "code",
   "execution_count": null,
   "metadata": {},
   "outputs": [],
   "source": [
    "# 정렬 알고리즘\n",
    "\n",
    "array = [7,5,9,0,3,1,6,2,4,8]\n",
    "new_array = []\n",
    "\n",
    "for i in range(len(array)):\n",
    "    new_array.append(min(array))\n",
    "    array.remove(min(array))\n",
    "print(new_array)"
   ]
  },
  {
   "cell_type": "code",
   "execution_count": null,
   "metadata": {},
   "outputs": [],
   "source": [
    "\n",
    "#2차원 리스트 초기화 하는법\n",
    "m = 6\n",
    "n = 4 \n",
    "array = [ [0]*m for i in range(n)]\n",
    "print(array)\n",
    "\n",
    "array[0][1]=1\n",
    "\n",
    "print(array)\n"
   ]
  },
  {
   "cell_type": "code",
   "execution_count": null,
   "metadata": {},
   "outputs": [],
   "source": [
    "\n",
    "\n",
    "# 리스트에서 특정 원소 삭제 하는 법\n",
    "lili = [1,3,5,6,3,6,7,4,7,4,8,3,8,1]\n",
    "remove_set= [1,5]\n",
    "\n",
    "removed = [ i for i in lili if i not in remove_set]\n",
    "print(removed)\n",
    "\n",
    "import math\n",
    "maximum = int(input())"
   ]
  },
  {
   "cell_type": "code",
   "execution_count": null,
   "metadata": {},
   "outputs": [],
   "source": [
    "\n",
    "N = list(range(2,100))\n",
    "i=2\n",
    "while i < 10:\n",
    "    n=2\n",
    "    while i*n <= max(N):\n",
    "        try:    \n",
    "            N.remove(i*n)\n",
    "            n+=1\n",
    "        except:\n",
    "            n+=1\n",
    "            continue\n",
    "    i+=1\n",
    "\n",
    "print(N)\n",
    "\n",
    "\n"
   ]
  },
  {
   "cell_type": "code",
   "execution_count": 1,
   "metadata": {},
   "outputs": [
    {
     "output_type": "execute_result",
     "data": {
      "text/plain": [
       "[]"
      ]
     },
     "metadata": {},
     "execution_count": 1
    }
   ],
   "source": [
    "aa = list(map(int, input().split()))\n",
    "aa"
   ]
  },
  {
   "source": [
    "input과 같은 기능을 하는 sys.stdin.readline().rstrip()\n",
    "근데 ipynb에선 안쓰인다."
   ],
   "cell_type": "markdown",
   "metadata": {}
  },
  {
   "source": [
    "import sys\n",
    "\n",
    "data = sys.stdin.readline().rstrip()\n",
    "print(data)"
   ],
   "cell_type": "code",
   "metadata": {},
   "execution_count": 18,
   "outputs": [
    {
     "output_type": "stream",
     "name": "stdout",
     "text": [
      "\n"
     ]
    }
   ]
  }
 ]
}
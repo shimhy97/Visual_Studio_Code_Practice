{
 "cells": [
  {
   "cell_type": "code",
   "execution_count": 9,
   "metadata": {},
   "outputs": [
    {
     "data": {
      "text/plain": [
       "'1 4'"
      ]
     },
     "execution_count": 9,
     "metadata": {},
     "output_type": "execute_result"
    }
   ],
   "source": [
    "s = \"1 2 3 4\"\n",
    "\n",
    "word_list = s.split()\n",
    "\n",
    "word_list = [int(i) for i in word_list]\n",
    "\n",
    "max_num = max(word_list)\n",
    "min_num = min(word_list)\n",
    "\n",
    "answer = f\"{min_num} {max_num}\"\n",
    "\n",
    "answer"
   ]
  },
  {
   "cell_type": "code",
   "execution_count": null,
   "metadata": {},
   "outputs": [],
   "source": [
    "## map 함수를 사용하여 다음과 같이 해결 가능\n",
    "\n",
    "def solution(s):\n",
    "    s = list(map(int,s.split()))\n",
    "    return str(min(s)) + \" \" + str(max(s))"
   ]
  }
 ],
 "metadata": {
  "kernelspec": {
   "display_name": "Python 3.9.12 ('tfgpu_py39')",
   "language": "python",
   "name": "python3"
  },
  "language_info": {
   "codemirror_mode": {
    "name": "ipython",
    "version": 3
   },
   "file_extension": ".py",
   "mimetype": "text/x-python",
   "name": "python",
   "nbconvert_exporter": "python",
   "pygments_lexer": "ipython3",
   "version": "3.9.12"
  },
  "orig_nbformat": 4,
  "vscode": {
   "interpreter": {
    "hash": "858ca9582b27f3d6b0476faef9f84142a897f7290aa960af3ea53c4c8186ac9c"
   }
  }
 },
 "nbformat": 4,
 "nbformat_minor": 2
}

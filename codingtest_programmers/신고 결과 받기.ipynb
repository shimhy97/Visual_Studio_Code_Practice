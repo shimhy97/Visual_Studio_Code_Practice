{
 "cells": [
  {
   "cell_type": "code",
   "execution_count": 129,
   "metadata": {},
   "outputs": [
    {
     "data": {
      "text/plain": [
       "[2, 1, 1, 0]"
      ]
     },
     "execution_count": 129,
     "metadata": {},
     "output_type": "execute_result"
    }
   ],
   "source": [
    "id_list = [\"muzi\", \"frodo\", \"apeach\", \"neo\"]\n",
    "report = [\"muzi frodo\",\"apeach frodo\",\"frodo neo\",\"muzi neo\",\"apeach muzi\"]\n",
    "\n",
    "k = 2\n",
    "\n",
    "report_count = {} \n",
    "count = [0]*len(id_list)\n",
    "\n",
    "# Using Dictionary comprehension\n",
    "report_dic = {key: [] for key in id_list}\n",
    "report_count = {key: [0,0] for key in id_list}\n",
    "\n",
    "# 신고 table 생성, report_dict\n",
    "for names in report: \n",
    "    name = names.split()\n",
    "    if name[1] not in report_dic[name[0]]:\n",
    "        report_dic[name[0]].append(name[1])\n",
    "        \n",
    "# 신고 한 횟수\n",
    "for name in list(report_dic.keys()):\n",
    "    report_count[name][0] = len(report_dic[name])\n",
    "\n",
    "# 신고 당한 횟수\n",
    "for names in list(report_dic.values()):\n",
    "    for name in names:\n",
    "        report_count[name][1]+=1\n",
    "\n",
    "# 넘지 않으면 신고 무효화\n",
    "for name in id_list:\n",
    "    if report_count[name][1]<k:\n",
    "        for (key,value) in report_dic.items():\n",
    "            if name in value:\n",
    "                value.remove(name)\n",
    "\n",
    "#answer 계산\n",
    "answer=[]\n",
    "for (key,value) in report_count.items():\n",
    "    answer.append(len(report_dic[key]))\n",
    "    # for name in report_dic[key]:\n",
    "        # value[1]+=1\n",
    "\n",
    "\n"
   ]
  },
  {
   "cell_type": "markdown",
   "metadata": {},
   "source": [
    "### 모범 코드"
   ]
  },
  {
   "cell_type": "code",
   "execution_count": null,
   "metadata": {},
   "outputs": [],
   "source": [
    "def solution(id_list, report, k):\n",
    "    answer = [0] * len(id_list)    \n",
    "    reports = {x : 0 for x in id_list}\n",
    "\n",
    "    # 신고 당한 횟수 dictionary 생성\n",
    "    for r in set(report):\n",
    "        reports[r.split()[1]] += 1\n",
    "\n",
    "    # k번 이상 신고 당한 사람만 남기기.\n",
    "    for r in set(report):\n",
    "        if reports[r.split()[1]] >= k:\n",
    "            answer[id_list.index(r.split()[0])] += 1\n",
    "\n",
    "    return answer"
   ]
  },
  {
   "cell_type": "code",
   "execution_count": 131,
   "metadata": {},
   "outputs": [
    {
     "data": {
      "text/plain": [
       "<function list.index(value, start=0, stop=9223372036854775807, /)>"
      ]
     },
     "execution_count": 131,
     "metadata": {},
     "output_type": "execute_result"
    }
   ],
   "source": [
    "id_list = [\"muzi\", \"frodo\", \"apeach\", \"neo\"]\n",
    "id_list.index"
   ]
  },
  {
   "cell_type": "code",
   "execution_count": 1,
   "metadata": {},
   "outputs": [
    {
     "data": {
      "text/plain": [
       "4"
      ]
     },
     "execution_count": 1,
     "metadata": {},
     "output_type": "execute_result"
    }
   ],
   "source": [
    "import math\n",
    "\n",
    "math.ceil(4)"
   ]
  }
 ],
 "metadata": {
  "kernelspec": {
   "display_name": "Python 3.9.12 ('tfgpu_py39')",
   "language": "python",
   "name": "python3"
  },
  "language_info": {
   "codemirror_mode": {
    "name": "ipython",
    "version": 3
   },
   "file_extension": ".py",
   "mimetype": "text/x-python",
   "name": "python",
   "nbconvert_exporter": "python",
   "pygments_lexer": "ipython3",
   "version": "3.9.12"
  },
  "orig_nbformat": 4,
  "vscode": {
   "interpreter": {
    "hash": "858ca9582b27f3d6b0476faef9f84142a897f7290aa960af3ea53c4c8186ac9c"
   }
  }
 },
 "nbformat": 4,
 "nbformat_minor": 2
}
